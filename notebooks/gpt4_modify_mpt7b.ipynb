{
  "nbformat": 4,
  "nbformat_minor": 0,
  "metadata": {
    "colab": {
      "provenance": [],
      "include_colab_link": true
    },
    "kernelspec": {
      "name": "python3",
      "display_name": "Python 3"
    },
    "language_info": {
      "name": "python"
    }
  },
  "cells": [
    {
      "cell_type": "markdown",
      "metadata": {
        "id": "view-in-github",
        "colab_type": "text"
      },
      "source": [
        "<a href=\"https://colab.research.google.com/github/jacksonkarel/selfmodifai/blob/main/notebooks/gpt4_modify_mpt7b.ipynb\" target=\"_parent\"><img src=\"https://colab.research.google.com/assets/colab-badge.svg\" alt=\"Open In Colab\"/></a>"
      ]
    },
    {
      "cell_type": "code",
      "execution_count": null,
      "metadata": {
        "id": "BAgfE8uJ5mf0"
      },
      "outputs": [],
      "source": [
        "!pip install langchain openai google-search-results"
      ]
    },
    {
      "cell_type": "code",
      "source": [
        "from google.colab import files\n",
        "\n",
        "uploaded = files.upload()"
      ],
      "metadata": {
        "id": "DjIlgK_gMInP"
      },
      "execution_count": null,
      "outputs": []
    },
    {
      "cell_type": "code",
      "source": [
        "import os\n",
        "import json\n",
        "keys = json.load(open('keys.json'))\n",
        "os.environ[\"OPENAI_API_KEY\"] = keys['openai']\n",
        "os.environ[\"SERPAPI_API_KEY\"] = keys['serp']"
      ],
      "metadata": {
        "id": "_cOQsfaL5vim"
      },
      "execution_count": null,
      "outputs": []
    },
    {
      "cell_type": "code",
      "source": [
        "!git lfs install\n",
        "!GIT_LFS_SKIP_SMUDGE=1\n",
        "!git clone https://huggingface.co/mosaicml/mpt-7b"
      ],
      "metadata": {
        "id": "q1-Skd0FUupi"
      },
      "execution_count": null,
      "outputs": []
    },
    {
      "cell_type": "code",
      "source": [
        "import os\n",
        "os.chdir(\"mpt-7b\")"
      ],
      "metadata": {
        "id": "lZWk5xhgUvbL"
      },
      "execution_count": null,
      "outputs": []
    },
    {
      "cell_type": "code",
      "source": [
        "from langchain import OpenAI\n",
        "from langchain.agents import load_tools\n",
        "from langchain.agents import initialize_agent\n",
        "\n",
        "llm=OpenAI(temperature=0)\n",
        "tools = load_tools(['python_repl', \"serpapi\"], llm=llm)\n",
        "\n",
        "agent = initialize_agent(tools, llm, agent=\"zero-shot-react-description\", verbose=True)\n",
        "input = \"You are in the directory of the open-source LLM MPT-7b. Modify the code so that MPT-7b is a more powerful language model. \"\n"
      ],
      "metadata": {
        "id": "DlzNhih543pe"
      },
      "execution_count": null,
      "outputs": []
    },
    {
      "cell_type": "code",
      "source": [
        "from langchain.agents import load_tools\n",
        "from langchain.agents import initialize_agent\n",
        "from langchain.chat_models import ChatOpenAI\n",
        "\n",
        "llm = ChatOpenAI(model='gpt-4', temperature=0)\n",
        "tools = load_tools(['python_repl', \"serpapi\"], llm=llm)\n",
        "\n",
        "agent = initialize_agent(tools, llm, agent=\"chat-zero-shot-react-description\", verbose=True)\n",
        "input = \"You are in the directory of the open-source LLM MPT-7b. Modify the code so that MPT-7b is a more powerful language model. \"\n"
      ],
      "metadata": {
        "id": "QYY-0a3qOOPn"
      },
      "execution_count": null,
      "outputs": []
    },
    {
      "cell_type": "code",
      "source": [
        "agent.run(input)"
      ],
      "metadata": {
        "id": "F8qLg-e-Bvip"
      },
      "execution_count": null,
      "outputs": []
    }
  ]
}